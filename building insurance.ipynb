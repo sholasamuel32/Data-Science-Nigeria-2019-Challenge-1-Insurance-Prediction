{
 "cells": [
  {
   "cell_type": "code",
   "execution_count": 116,
   "id": "5ee04304",
   "metadata": {},
   "outputs": [],
   "source": [
    "import pandas as pd\n",
    "import matplotlib.pyplot as plt\n",
    "import numpy as np\n",
    "import seaborn as sns\n",
    "from sklearn.preprocessing import LabelEncoder\n",
    "from sklearn import metrics\n",
    "from sklearn.model_selection import train_test_split"
   ]
  },
  {
   "cell_type": "code",
   "execution_count": 177,
   "id": "51ce0eb5",
   "metadata": {},
   "outputs": [],
   "source": [
    "df = pd.read_csv(\"train_data.csv\")\n",
    "dff = pd.read_csv(\"test_data.csv\")\n",
    "ss = pd.read_csv(\"SampleSubmission.csv\")\n",
    "\n"
   ]
  },
  {
   "cell_type": "code",
   "execution_count": 118,
   "id": "3b003b72",
   "metadata": {},
   "outputs": [
    {
     "data": {
      "text/plain": [
       "(7160, 14)"
      ]
     },
     "execution_count": 118,
     "metadata": {},
     "output_type": "execute_result"
    }
   ],
   "source": [
    "df.shape"
   ]
  },
  {
   "cell_type": "code",
   "execution_count": 119,
   "id": "a17c3832",
   "metadata": {},
   "outputs": [
    {
     "data": {
      "text/plain": [
       "(3069, 13)"
      ]
     },
     "execution_count": 119,
     "metadata": {},
     "output_type": "execute_result"
    }
   ],
   "source": [
    "dff.shape"
   ]
  },
  {
   "cell_type": "code",
   "execution_count": 120,
   "id": "ce5cf964",
   "metadata": {},
   "outputs": [
    {
     "name": "stdout",
     "output_type": "stream",
     "text": [
      "<class 'pandas.core.frame.DataFrame'>\n",
      "RangeIndex: 7160 entries, 0 to 7159\n",
      "Data columns (total 14 columns):\n",
      " #   Column              Non-Null Count  Dtype  \n",
      "---  ------              --------------  -----  \n",
      " 0   Customer Id         7160 non-null   object \n",
      " 1   YearOfObservation   7160 non-null   int64  \n",
      " 2   Insured_Period      7160 non-null   float64\n",
      " 3   Residential         7160 non-null   int64  \n",
      " 4   Building_Painted    7160 non-null   object \n",
      " 5   Building_Fenced     7160 non-null   object \n",
      " 6   Garden              7153 non-null   object \n",
      " 7   Settlement          7160 non-null   object \n",
      " 8   Building Dimension  7054 non-null   float64\n",
      " 9   Building_Type       7160 non-null   int64  \n",
      " 10  Date_of_Occupancy   6652 non-null   float64\n",
      " 11  NumberOfWindows     7160 non-null   object \n",
      " 12  Geo_Code            7058 non-null   object \n",
      " 13  Claim               7160 non-null   int64  \n",
      "dtypes: float64(3), int64(4), object(7)\n",
      "memory usage: 783.2+ KB\n"
     ]
    }
   ],
   "source": [
    "df.info()"
   ]
  },
  {
   "cell_type": "code",
   "execution_count": 121,
   "id": "eda814ac",
   "metadata": {},
   "outputs": [
    {
     "data": {
      "text/plain": [
       "Customer Id             0\n",
       "YearOfObservation       0\n",
       "Insured_Period          0\n",
       "Residential             0\n",
       "Building_Painted        0\n",
       "Building_Fenced         0\n",
       "Garden                  7\n",
       "Settlement              0\n",
       "Building Dimension    106\n",
       "Building_Type           0\n",
       "Date_of_Occupancy     508\n",
       "NumberOfWindows         0\n",
       "Geo_Code              102\n",
       "Claim                   0\n",
       "dtype: int64"
      ]
     },
     "execution_count": 121,
     "metadata": {},
     "output_type": "execute_result"
    }
   ],
   "source": [
    "df.isna().sum()"
   ]
  },
  {
   "cell_type": "code",
   "execution_count": 122,
   "id": "76bde561",
   "metadata": {},
   "outputs": [
    {
     "data": {
      "text/plain": [
       "O    3602\n",
       "V    3551\n",
       "Name: Garden, dtype: int64"
      ]
     },
     "execution_count": 122,
     "metadata": {},
     "output_type": "execute_result"
    }
   ],
   "source": [
    "df.Garden.value_counts()"
   ]
  },
  {
   "cell_type": "code",
   "execution_count": 123,
   "id": "4ecb82a5",
   "metadata": {},
   "outputs": [],
   "source": [
    "df.Garden = df.Garden.fillna(value='O')"
   ]
  },
  {
   "cell_type": "code",
   "execution_count": 124,
   "id": "7f5655e8",
   "metadata": {},
   "outputs": [
    {
     "data": {
      "text/plain": [
       "0"
      ]
     },
     "execution_count": 124,
     "metadata": {},
     "output_type": "execute_result"
    }
   ],
   "source": [
    "df.Garden.isna().sum()"
   ]
  },
  {
   "cell_type": "code",
   "execution_count": 125,
   "id": "2c3c0d18",
   "metadata": {},
   "outputs": [],
   "source": [
    "building_mean = np.mean(df[\"Building Dimension\"])"
   ]
  },
  {
   "cell_type": "code",
   "execution_count": 126,
   "id": "86b1859e",
   "metadata": {},
   "outputs": [
    {
     "data": {
      "text/plain": [
       "1883.7275304791608"
      ]
     },
     "execution_count": 126,
     "metadata": {},
     "output_type": "execute_result"
    }
   ],
   "source": [
    "building_mean"
   ]
  },
  {
   "cell_type": "code",
   "execution_count": 127,
   "id": "e8f0d876",
   "metadata": {},
   "outputs": [],
   "source": [
    "df[\"Building Dimension\"] = df[\"Building Dimension\"].fillna(value = 1883.7275304791608)"
   ]
  },
  {
   "cell_type": "code",
   "execution_count": 128,
   "id": "70fe7b51",
   "metadata": {},
   "outputs": [
    {
     "data": {
      "text/plain": [
       "0"
      ]
     },
     "execution_count": 128,
     "metadata": {},
     "output_type": "execute_result"
    }
   ],
   "source": [
    "df[\"Building Dimension\"].isna().sum()"
   ]
  },
  {
   "cell_type": "code",
   "execution_count": 129,
   "id": "a81a6a5c",
   "metadata": {},
   "outputs": [],
   "source": [
    "date_mean = np.mean(df[\"Date_of_Occupancy\"])"
   ]
  },
  {
   "cell_type": "code",
   "execution_count": 130,
   "id": "58614a5c",
   "metadata": {},
   "outputs": [
    {
     "data": {
      "text/plain": [
       "1964.456404088996"
      ]
     },
     "execution_count": 130,
     "metadata": {},
     "output_type": "execute_result"
    }
   ],
   "source": [
    "date_mean"
   ]
  },
  {
   "cell_type": "code",
   "execution_count": 131,
   "id": "34f37785",
   "metadata": {},
   "outputs": [],
   "source": [
    "df[\"Date_of_Occupancy\"] = df[\"Date_of_Occupancy\"].fillna(value = 1964.456404088996)"
   ]
  },
  {
   "cell_type": "code",
   "execution_count": 132,
   "id": "6fecab6e",
   "metadata": {},
   "outputs": [
    {
     "data": {
      "text/plain": [
       "0"
      ]
     },
     "execution_count": 132,
     "metadata": {},
     "output_type": "execute_result"
    }
   ],
   "source": [
    "df[\"Date_of_Occupancy\"].isna().sum()"
   ]
  },
  {
   "cell_type": "code",
   "execution_count": 133,
   "id": "df42b1d8",
   "metadata": {},
   "outputs": [
    {
     "data": {
      "text/plain": [
       "6088     143\n",
       "33063    137\n",
       "6083     113\n",
       "13206     98\n",
       "31555     87\n",
       "        ... \n",
       "59650      1\n",
       "59656      1\n",
       "60057      1\n",
       "60172      1\n",
       "2B353      1\n",
       "Name: Geo_Code, Length: 1307, dtype: int64"
      ]
     },
     "execution_count": 133,
     "metadata": {},
     "output_type": "execute_result"
    }
   ],
   "source": [
    "df[\"Geo_Code\"].value_counts()"
   ]
  },
  {
   "cell_type": "code",
   "execution_count": 134,
   "id": "af19d833",
   "metadata": {},
   "outputs": [],
   "source": [
    "df[\"Geo_Code\"] = df[\"Geo_Code\"].fillna(value= '6088')"
   ]
  },
  {
   "cell_type": "code",
   "execution_count": 135,
   "id": "2a0bd13f",
   "metadata": {},
   "outputs": [
    {
     "data": {
      "text/plain": [
       "0"
      ]
     },
     "execution_count": 135,
     "metadata": {},
     "output_type": "execute_result"
    }
   ],
   "source": [
    "df[\"Geo_Code\"].isna().sum()"
   ]
  },
  {
   "cell_type": "code",
   "execution_count": 136,
   "id": "3d0ee699",
   "metadata": {},
   "outputs": [
    {
     "data": {
      "text/plain": [
       "Customer Id           0\n",
       "YearOfObservation     0\n",
       "Insured_Period        0\n",
       "Residential           0\n",
       "Building_Painted      0\n",
       "Building_Fenced       0\n",
       "Garden                0\n",
       "Settlement            0\n",
       "Building Dimension    0\n",
       "Building_Type         0\n",
       "Date_of_Occupancy     0\n",
       "NumberOfWindows       0\n",
       "Geo_Code              0\n",
       "Claim                 0\n",
       "dtype: int64"
      ]
     },
     "execution_count": 136,
     "metadata": {},
     "output_type": "execute_result"
    }
   ],
   "source": [
    "df.isna().sum()"
   ]
  },
  {
   "cell_type": "code",
   "execution_count": 137,
   "id": "fda4519a",
   "metadata": {},
   "outputs": [
    {
     "name": "stdout",
     "output_type": "stream",
     "text": [
      "<class 'pandas.core.frame.DataFrame'>\n",
      "RangeIndex: 3069 entries, 0 to 3068\n",
      "Data columns (total 13 columns):\n",
      " #   Column              Non-Null Count  Dtype  \n",
      "---  ------              --------------  -----  \n",
      " 0   Customer Id         3069 non-null   object \n",
      " 1   YearOfObservation   3069 non-null   int64  \n",
      " 2   Insured_Period      3069 non-null   float64\n",
      " 3   Residential         3069 non-null   int64  \n",
      " 4   Building_Painted    3069 non-null   object \n",
      " 5   Building_Fenced     3069 non-null   object \n",
      " 6   Garden              3065 non-null   object \n",
      " 7   Settlement          3069 non-null   object \n",
      " 8   Building Dimension  3056 non-null   float64\n",
      " 9   Building_Type       3069 non-null   int64  \n",
      " 10  Date_of_Occupancy   2341 non-null   float64\n",
      " 11  NumberOfWindows     3069 non-null   object \n",
      " 12  Geo_Code            3056 non-null   object \n",
      "dtypes: float64(3), int64(3), object(7)\n",
      "memory usage: 311.8+ KB\n"
     ]
    }
   ],
   "source": [
    "dff.info()"
   ]
  },
  {
   "cell_type": "code",
   "execution_count": 138,
   "id": "df796d62",
   "metadata": {},
   "outputs": [
    {
     "data": {
      "text/plain": [
       "Customer Id             0\n",
       "YearOfObservation       0\n",
       "Insured_Period          0\n",
       "Residential             0\n",
       "Building_Painted        0\n",
       "Building_Fenced         0\n",
       "Garden                  4\n",
       "Settlement              0\n",
       "Building Dimension     13\n",
       "Building_Type           0\n",
       "Date_of_Occupancy     728\n",
       "NumberOfWindows         0\n",
       "Geo_Code               13\n",
       "dtype: int64"
      ]
     },
     "execution_count": 138,
     "metadata": {},
     "output_type": "execute_result"
    }
   ],
   "source": [
    "dff.isna().sum()"
   ]
  },
  {
   "cell_type": "code",
   "execution_count": 139,
   "id": "584c5c32",
   "metadata": {},
   "outputs": [
    {
     "data": {
      "text/plain": [
       "V    2240\n",
       "O     825\n",
       "Name: Garden, dtype: int64"
      ]
     },
     "execution_count": 139,
     "metadata": {},
     "output_type": "execute_result"
    }
   ],
   "source": [
    "dff.Garden.value_counts()"
   ]
  },
  {
   "cell_type": "code",
   "execution_count": 140,
   "id": "d4ab6dd5",
   "metadata": {},
   "outputs": [],
   "source": [
    "dff.Garden = dff.Garden.fillna(value='V')"
   ]
  },
  {
   "cell_type": "code",
   "execution_count": 141,
   "id": "b46edf48",
   "metadata": {},
   "outputs": [],
   "source": [
    "building_mean1 = np.mean(dff[\"Building Dimension\"])"
   ]
  },
  {
   "cell_type": "code",
   "execution_count": 142,
   "id": "112936a5",
   "metadata": {},
   "outputs": [
    {
     "data": {
      "text/plain": [
       "1666.7905759162304"
      ]
     },
     "execution_count": 142,
     "metadata": {},
     "output_type": "execute_result"
    }
   ],
   "source": [
    "building_mean1"
   ]
  },
  {
   "cell_type": "code",
   "execution_count": 143,
   "id": "7f976b14",
   "metadata": {},
   "outputs": [],
   "source": [
    "dff[\"Building Dimension\"] = dff[\"Building Dimension\"].fillna(value = 1666.7905759162304)"
   ]
  },
  {
   "cell_type": "code",
   "execution_count": 144,
   "id": "656fbd3d",
   "metadata": {},
   "outputs": [],
   "source": [
    "date_mean1 = np.mean(dff[\"Date_of_Occupancy\"])"
   ]
  },
  {
   "cell_type": "code",
   "execution_count": 145,
   "id": "5049abc1",
   "metadata": {},
   "outputs": [
    {
     "data": {
      "text/plain": [
       "1966.7817172148655"
      ]
     },
     "execution_count": 145,
     "metadata": {},
     "output_type": "execute_result"
    }
   ],
   "source": [
    "date_mean1"
   ]
  },
  {
   "cell_type": "code",
   "execution_count": 146,
   "id": "9556a448",
   "metadata": {},
   "outputs": [],
   "source": [
    "dff[\"Date_of_Occupancy\"] = dff[\"Date_of_Occupancy\"].fillna(value = 1966.7817172148655)"
   ]
  },
  {
   "cell_type": "code",
   "execution_count": 147,
   "id": "4b5bd76f",
   "metadata": {},
   "outputs": [
    {
     "data": {
      "text/plain": [
       "6083     113\n",
       "6088      95\n",
       "2B033     74\n",
       "13206     68\n",
       "13204     61\n",
       "        ... \n",
       "68149      1\n",
       "29058      1\n",
       "68062      1\n",
       "68060      1\n",
       "74081      1\n",
       "Name: Geo_Code, Length: 697, dtype: int64"
      ]
     },
     "execution_count": 147,
     "metadata": {},
     "output_type": "execute_result"
    }
   ],
   "source": [
    "dff[\"Geo_Code\"].value_counts()"
   ]
  },
  {
   "cell_type": "code",
   "execution_count": 148,
   "id": "2fa23537",
   "metadata": {},
   "outputs": [],
   "source": [
    "dff[\"Geo_Code\"] = dff[\"Geo_Code\"].fillna(value= '6083')"
   ]
  },
  {
   "cell_type": "code",
   "execution_count": 149,
   "id": "74abdb82",
   "metadata": {},
   "outputs": [
    {
     "data": {
      "text/plain": [
       "Customer Id           0\n",
       "YearOfObservation     0\n",
       "Insured_Period        0\n",
       "Residential           0\n",
       "Building_Painted      0\n",
       "Building_Fenced       0\n",
       "Garden                0\n",
       "Settlement            0\n",
       "Building Dimension    0\n",
       "Building_Type         0\n",
       "Date_of_Occupancy     0\n",
       "NumberOfWindows       0\n",
       "Geo_Code              0\n",
       "dtype: int64"
      ]
     },
     "execution_count": 149,
     "metadata": {},
     "output_type": "execute_result"
    }
   ],
   "source": [
    "dff.isna().sum()"
   ]
  },
  {
   "cell_type": "code",
   "execution_count": 150,
   "id": "ebb3719b",
   "metadata": {},
   "outputs": [],
   "source": [
    "df.drop(\"Customer Id\", axis = 1, inplace = True)"
   ]
  },
  {
   "cell_type": "code",
   "execution_count": 151,
   "id": "59acb213",
   "metadata": {},
   "outputs": [],
   "source": [
    "dff.drop(\"Customer Id\", axis = 1, inplace = True)"
   ]
  },
  {
   "cell_type": "code",
   "execution_count": 152,
   "id": "2833b4db",
   "metadata": {},
   "outputs": [
    {
     "name": "stdout",
     "output_type": "stream",
     "text": [
      "<class 'pandas.core.frame.DataFrame'>\n",
      "RangeIndex: 7160 entries, 0 to 7159\n",
      "Data columns (total 13 columns):\n",
      " #   Column              Non-Null Count  Dtype  \n",
      "---  ------              --------------  -----  \n",
      " 0   YearOfObservation   7160 non-null   int64  \n",
      " 1   Insured_Period      7160 non-null   float64\n",
      " 2   Residential         7160 non-null   int64  \n",
      " 3   Building_Painted    7160 non-null   object \n",
      " 4   Building_Fenced     7160 non-null   object \n",
      " 5   Garden              7160 non-null   object \n",
      " 6   Settlement          7160 non-null   object \n",
      " 7   Building Dimension  7160 non-null   float64\n",
      " 8   Building_Type       7160 non-null   int64  \n",
      " 9   Date_of_Occupancy   7160 non-null   float64\n",
      " 10  NumberOfWindows     7160 non-null   object \n",
      " 11  Geo_Code            7160 non-null   object \n",
      " 12  Claim               7160 non-null   int64  \n",
      "dtypes: float64(3), int64(4), object(6)\n",
      "memory usage: 727.3+ KB\n"
     ]
    }
   ],
   "source": [
    "df.info()"
   ]
  },
  {
   "cell_type": "code",
   "execution_count": 153,
   "id": "0b64da40",
   "metadata": {},
   "outputs": [],
   "source": [
    "lab_enc = LabelEncoder()\n",
    "df[\"Building_Painted\"] = lab_enc.fit_transform(df[\"Building_Painted\"])\n",
    "df[\"Building_Fenced\"] = lab_enc.fit_transform(df[\"Building_Fenced\"])\n",
    "df[\"Garden\"] = lab_enc.fit_transform(df[\"Garden\"])\n",
    "df[\"Settlement\"] = lab_enc.fit_transform(df[\"Settlement\"])\n",
    "df[\"NumberOfWindows\"] = lab_enc.fit_transform(df[\"NumberOfWindows\"])\n",
    "df[\"Geo_Code\"] = lab_enc.fit_transform(df[\"Geo_Code\"])\n",
    "\n",
    "\n",
    "\n",
    "dff[\"Building_Painted\"] = lab_enc.fit_transform(dff[\"Building_Painted\"])\n",
    "dff[\"Building_Fenced\"] = lab_enc.fit_transform(dff[\"Building_Fenced\"])\n",
    "dff[\"Garden\"] = lab_enc.fit_transform(dff[\"Garden\"])\n",
    "dff[\"Settlement\"] = lab_enc.fit_transform(dff[\"Settlement\"])\n",
    "dff[\"NumberOfWindows\"] = lab_enc.fit_transform(dff[\"NumberOfWindows\"])\n",
    "dff[\"Geo_Code\"] = lab_enc.fit_transform(dff[\"Geo_Code\"])\n",
    "\n",
    "\n"
   ]
  },
  {
   "cell_type": "code",
   "execution_count": 154,
   "id": "f827b407",
   "metadata": {},
   "outputs": [
    {
     "name": "stdout",
     "output_type": "stream",
     "text": [
      "<class 'pandas.core.frame.DataFrame'>\n",
      "RangeIndex: 7160 entries, 0 to 7159\n",
      "Data columns (total 13 columns):\n",
      " #   Column              Non-Null Count  Dtype  \n",
      "---  ------              --------------  -----  \n",
      " 0   YearOfObservation   7160 non-null   int64  \n",
      " 1   Insured_Period      7160 non-null   float64\n",
      " 2   Residential         7160 non-null   int64  \n",
      " 3   Building_Painted    7160 non-null   int32  \n",
      " 4   Building_Fenced     7160 non-null   int32  \n",
      " 5   Garden              7160 non-null   int32  \n",
      " 6   Settlement          7160 non-null   int32  \n",
      " 7   Building Dimension  7160 non-null   float64\n",
      " 8   Building_Type       7160 non-null   int64  \n",
      " 9   Date_of_Occupancy   7160 non-null   float64\n",
      " 10  NumberOfWindows     7160 non-null   int32  \n",
      " 11  Geo_Code            7160 non-null   int32  \n",
      " 12  Claim               7160 non-null   int64  \n",
      "dtypes: float64(3), int32(6), int64(4)\n",
      "memory usage: 559.5 KB\n"
     ]
    }
   ],
   "source": [
    "df.info()"
   ]
  },
  {
   "cell_type": "code",
   "execution_count": 155,
   "id": "2a3206a7",
   "metadata": {},
   "outputs": [
    {
     "name": "stdout",
     "output_type": "stream",
     "text": [
      "<class 'pandas.core.frame.DataFrame'>\n",
      "RangeIndex: 3069 entries, 0 to 3068\n",
      "Data columns (total 12 columns):\n",
      " #   Column              Non-Null Count  Dtype  \n",
      "---  ------              --------------  -----  \n",
      " 0   YearOfObservation   3069 non-null   int64  \n",
      " 1   Insured_Period      3069 non-null   float64\n",
      " 2   Residential         3069 non-null   int64  \n",
      " 3   Building_Painted    3069 non-null   int32  \n",
      " 4   Building_Fenced     3069 non-null   int32  \n",
      " 5   Garden              3069 non-null   int32  \n",
      " 6   Settlement          3069 non-null   int32  \n",
      " 7   Building Dimension  3069 non-null   float64\n",
      " 8   Building_Type       3069 non-null   int64  \n",
      " 9   Date_of_Occupancy   3069 non-null   float64\n",
      " 10  NumberOfWindows     3069 non-null   int32  \n",
      " 11  Geo_Code            3069 non-null   int32  \n",
      "dtypes: float64(3), int32(6), int64(3)\n",
      "memory usage: 215.9 KB\n"
     ]
    }
   ],
   "source": [
    "dff.info()"
   ]
  },
  {
   "cell_type": "code",
   "execution_count": 156,
   "id": "2e7d62fa",
   "metadata": {},
   "outputs": [],
   "source": [
    "X = df.drop(\"Claim\", axis = 1)\n",
    "y = df.Claim\n",
    "test = dff"
   ]
  },
  {
   "cell_type": "code",
   "execution_count": 157,
   "id": "5b32f2ff",
   "metadata": {},
   "outputs": [],
   "source": [
    "X_train, X_test, y_train, y_test = train_test_split(X, y, test_size = 0.2, random_state = 120)"
   ]
  },
  {
   "cell_type": "code",
   "execution_count": 158,
   "id": "b0949ede",
   "metadata": {},
   "outputs": [
    {
     "data": {
      "text/plain": [
       "(5728, 12)"
      ]
     },
     "execution_count": 158,
     "metadata": {},
     "output_type": "execute_result"
    }
   ],
   "source": [
    "X_train.shape"
   ]
  },
  {
   "cell_type": "code",
   "execution_count": 159,
   "id": "e925b136",
   "metadata": {},
   "outputs": [
    {
     "data": {
      "text/plain": [
       "(1432, 12)"
      ]
     },
     "execution_count": 159,
     "metadata": {},
     "output_type": "execute_result"
    }
   ],
   "source": [
    "X_test.shape"
   ]
  },
  {
   "cell_type": "code",
   "execution_count": 160,
   "id": "739dc216",
   "metadata": {},
   "outputs": [
    {
     "data": {
      "text/plain": [
       "(5728,)"
      ]
     },
     "execution_count": 160,
     "metadata": {},
     "output_type": "execute_result"
    }
   ],
   "source": [
    "y_train.shape"
   ]
  },
  {
   "cell_type": "code",
   "execution_count": 161,
   "id": "45afa9fb",
   "metadata": {},
   "outputs": [
    {
     "data": {
      "text/plain": [
       "(1432,)"
      ]
     },
     "execution_count": 161,
     "metadata": {},
     "output_type": "execute_result"
    }
   ],
   "source": [
    "y_test.shape"
   ]
  },
  {
   "cell_type": "code",
   "execution_count": 162,
   "id": "2bbc6133",
   "metadata": {},
   "outputs": [
    {
     "data": {
      "text/plain": [
       "LinearRegression()"
      ]
     },
     "execution_count": 162,
     "metadata": {},
     "output_type": "execute_result"
    }
   ],
   "source": [
    "from sklearn.linear_model import LinearRegression\n",
    "from sklearn.metrics import accuracy_score, f1_score\n",
    "linear = LinearRegression()\n",
    "linear.fit(X_train, y_train)"
   ]
  },
  {
   "cell_type": "code",
   "execution_count": 163,
   "id": "83693180",
   "metadata": {},
   "outputs": [],
   "source": [
    "linear_predict = linear.predict(X_test)"
   ]
  },
  {
   "cell_type": "code",
   "execution_count": 164,
   "id": "a417cf76",
   "metadata": {},
   "outputs": [
    {
     "data": {
      "text/plain": [
       "array([0.33505043, 0.0848828 , 0.12521046, ..., 0.03433311, 0.10068199,\n",
       "       0.07357787])"
      ]
     },
     "execution_count": 164,
     "metadata": {},
     "output_type": "execute_result"
    }
   ],
   "source": [
    "linear_predict"
   ]
  },
  {
   "cell_type": "code",
   "execution_count": 165,
   "id": "24651ca8",
   "metadata": {},
   "outputs": [
    {
     "name": "stderr",
     "output_type": "stream",
     "text": [
      "C:\\Users\\HP\\anaconda3\\lib\\site-packages\\sklearn\\linear_model\\_logistic.py:763: ConvergenceWarning: lbfgs failed to converge (status=1):\n",
      "STOP: TOTAL NO. of ITERATIONS REACHED LIMIT.\n",
      "\n",
      "Increase the number of iterations (max_iter) or scale the data as shown in:\n",
      "    https://scikit-learn.org/stable/modules/preprocessing.html\n",
      "Please also refer to the documentation for alternative solver options:\n",
      "    https://scikit-learn.org/stable/modules/linear_model.html#logistic-regression\n",
      "  n_iter_i = _check_optimize_result(\n"
     ]
    }
   ],
   "source": [
    "from sklearn.linear_model import LogisticRegression\n",
    "logistic = LogisticRegression()\n",
    "logistic.fit(X_train, y_train)\n",
    "log_pred = logistic.predict(X_test)"
   ]
  },
  {
   "cell_type": "code",
   "execution_count": 166,
   "id": "31e903f3",
   "metadata": {},
   "outputs": [
    {
     "data": {
      "text/plain": [
       "0.7751396648044693"
      ]
     },
     "execution_count": 166,
     "metadata": {},
     "output_type": "execute_result"
    }
   ],
   "source": [
    "accuracy_score(y_test, log_pred)"
   ]
  },
  {
   "cell_type": "code",
   "execution_count": 167,
   "id": "91008cc0",
   "metadata": {},
   "outputs": [],
   "source": [
    "from sklearn.tree import DecisionTreeRegressor\n",
    "tree = DecisionTreeRegressor()\n",
    "tree.fit(X_train, y_train)\n",
    "tree_pred = tree.predict(X_test)"
   ]
  },
  {
   "cell_type": "code",
   "execution_count": 168,
   "id": "b8f2f911",
   "metadata": {},
   "outputs": [
    {
     "data": {
      "text/plain": [
       "array([0, 0, 0, ..., 0, 0, 0], dtype=int64)"
      ]
     },
     "execution_count": 168,
     "metadata": {},
     "output_type": "execute_result"
    }
   ],
   "source": [
    "from sklearn.naive_bayes import GaussianNB\n",
    "\n",
    "naivemodel = GaussianNB()\n",
    "\n",
    "naivemodel.fit(X_train, y_train)\n",
    "na_pred = naivemodel.predict(X_test)\n",
    "na_pred"
   ]
  },
  {
   "cell_type": "code",
   "execution_count": 169,
   "id": "a212c2e5",
   "metadata": {},
   "outputs": [
    {
     "data": {
      "text/plain": [
       "0.763268156424581"
      ]
     },
     "execution_count": 169,
     "metadata": {},
     "output_type": "execute_result"
    }
   ],
   "source": [
    "accuracy_score(y_test, na_pred)"
   ]
  },
  {
   "cell_type": "code",
   "execution_count": 170,
   "id": "1109ac9d",
   "metadata": {},
   "outputs": [
    {
     "data": {
      "text/plain": [
       "0.7737430167597765"
      ]
     },
     "execution_count": 170,
     "metadata": {},
     "output_type": "execute_result"
    }
   ],
   "source": [
    "# for SVM model\n",
    "from sklearn.svm import SVC\n",
    "SVMmodel = SVC()\n",
    "SVMmodel.fit(X_train, y_train)\n",
    "SVM_pred = SVMmodel.predict(X_test)\n",
    "# f1_score(y_test, SVM_pred) * 100\n",
    "accuracy_score(y_test, SVM_pred)"
   ]
  },
  {
   "cell_type": "code",
   "execution_count": 171,
   "id": "3f7b5b47",
   "metadata": {},
   "outputs": [
    {
     "data": {
      "text/plain": [
       "0.7688547486033519"
      ]
     },
     "execution_count": 171,
     "metadata": {},
     "output_type": "execute_result"
    }
   ],
   "source": [
    "# For random forest model\n",
    "from sklearn.ensemble import RandomForestClassifier\n",
    "randomforestmodel = RandomForestClassifier()\n",
    "randomforestmodel.fit(X_train, y_train)\n",
    "ran_pred = randomforestmodel.predict(X_test)\n",
    "# f1_score(y_test, ran_pred)*100\n",
    "accuracy_score(y_test, ran_pred)\n"
   ]
  },
  {
   "cell_type": "markdown",
   "id": "1f3d1077",
   "metadata": {},
   "source": [
    "# SINCE LOGISTIC REGRESSION GAVE THE BEST ACCURACY SCORE "
   ]
  },
  {
   "cell_type": "code",
   "execution_count": 172,
   "id": "0fc56c66",
   "metadata": {},
   "outputs": [],
   "source": [
    "prediction = logistic.predict(test)"
   ]
  },
  {
   "cell_type": "code",
   "execution_count": 173,
   "id": "30edc187",
   "metadata": {},
   "outputs": [
    {
     "data": {
      "text/plain": [
       "array([0, 0, 0, ..., 0, 0, 0], dtype=int64)"
      ]
     },
     "execution_count": 173,
     "metadata": {},
     "output_type": "execute_result"
    }
   ],
   "source": [
    "prediction"
   ]
  },
  {
   "cell_type": "code",
   "execution_count": 182,
   "id": "ad835f4b",
   "metadata": {},
   "outputs": [],
   "source": [
    "# new_ss[\"Claim\"] = prediction\n",
    "\n",
    "a = {'Customer Id': dff[\"Customer Id\"], 'Claim': prediction}   #to merge a column \n",
    "result = pd.DataFrame(data = a)\n",
    "# ss.to_csv('result.csv', index = False)"
   ]
  },
  {
   "cell_type": "code",
   "execution_count": 183,
   "id": "fe2299fa",
   "metadata": {},
   "outputs": [],
   "source": [
    "result.to_csv('finalresult.csv',index= False)"
   ]
  },
  {
   "cell_type": "code",
   "execution_count": null,
   "id": "8673c609",
   "metadata": {},
   "outputs": [],
   "source": []
  }
 ],
 "metadata": {
  "kernelspec": {
   "display_name": "Python 3 (ipykernel)",
   "language": "python",
   "name": "python3"
  },
  "language_info": {
   "codemirror_mode": {
    "name": "ipython",
    "version": 3
   },
   "file_extension": ".py",
   "mimetype": "text/x-python",
   "name": "python",
   "nbconvert_exporter": "python",
   "pygments_lexer": "ipython3",
   "version": "3.9.7"
  }
 },
 "nbformat": 4,
 "nbformat_minor": 5
}
